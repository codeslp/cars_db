{
 "cells": [
  {
   "cell_type": "markdown",
   "metadata": {},
   "source": [
    "# Normalization to-do list:   ✅\n",
    "\n",
    "- ✅ Check for nulls, fill if possible from name field?\n",
    "- ✅ Strip extra spaces\n",
    "- ✅ Convert all case to lower case\n",
    "- ✅ Eliminate duplicate entries\n",
    "- ✅ Remove all non-numeric chars from numeric fields\n",
    "- ✅ Make date fields date objects\n",
    "- ✅ Standardize as many fields as possible\n",
    "\n",
    "1. ✅ Eliminate duplicated information from the table: make, model, year, engine size--basically if the field exists anywhere else in the row, then we have to cut it from the name field. Occasionally there is information in the name field that is not anywhere else in the row, so we can't throw out the field altogether.\n",
    "2. ✅ Change mileage from str to int\n",
    "3. ✅ Change num_owners from str eg \"1st\" to int eg 1\n",
    "4. ✅ Cut transmission_gears from str eg \"5-speech\" to int eg 5 and 'cvt' (continuous transmission to 'c')\n",
    "5. ✅ Change transmission_type from str \"Manual\" or \"Automatic\" to \"M\" or \"A\"\n",
    "6. ✅ Cut emission type from \"BS V\" to just \"5\"\n",
    "7. ✅ Change price to int. Are there any prices that do NOT end in \"000\"-if not, just cut them and the price field can be in lakhs\n",
    "8. ✅ Change fuel type to just first letter\n",
    "9. ✅ Try to standardize Engine_Type field, eliminate duplicate data\n",
    "\n"
   ]
  },
  {
   "cell_type": "markdown",
   "metadata": {},
   "source": [
    "# Additional questions you'd want to ask stakeholders/users:\n",
    "\n",
    "- Are there other possible values we will see in the future that I should account for?\n",
    "- I've assigned all information from the name field into the relevant other fields. Do you need me to further refine and standardize the engine type field?\n",
    "- Are any of these remaining fields contingent on any other fields? (They don't appear to be)\n"
   ]
  },
  {
   "cell_type": "markdown",
   "metadata": {},
   "source": []
  }
 ],
 "metadata": {
  "language_info": {
   "name": "python"
  },
  "orig_nbformat": 4
 },
 "nbformat": 4,
 "nbformat_minor": 2
}
