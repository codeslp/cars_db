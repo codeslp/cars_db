{
 "cells": [
  {
   "cell_type": "markdown",
   "metadata": {},
   "source": [
    "# Standardization/normalization to-do list:   ✅\n",
    "\n",
    "- ✅ Check for nulls, fill if possible from name field?\n",
    "- ✅ Strip extra spaces\n",
    "- ✅ Convert all case to lower case\n",
    "- ✅ Eliminate duplicate entries\n",
    "- ✅ Remove all non-numeric chars from numeric fields\n",
    "- ✅ Make date fields date objects\n",
    "- ✅ Standardize as many fields as possible\n",
    "\n",
    "1. ✅ Eliminate duplicated information from the table: make, model, year, engine size--basically if the field exists anywhere else in the row, then we have to cut it from the name field. Occasionally there is information in the name field that is not anywhere else in the row, so we can't throw out the field altogether.\n",
    "2. ✅ Change mileage from str to int\n",
    "3. ✅ Change num_owners from str eg \"1st\" to int eg 1\n",
    "4. ✅ Cut transmission_gears from str eg \"5-speech\" to int eg 5 and 'cvt' (continuous transmission to 'c')\n",
    "5. ✅ Change transmission_type from str \"Manual\" or \"Automatic\" to \"M\" or \"A\"\n",
    "6. ✅ Cut emission type from \"BS V\" to just \"5\"\n",
    "7. ✅ Change price to int\n",
    "8. ✅ Change fuel type to just first letter\n",
    "9. ✅ Try to standardize Engine_Type field, eliminate duplicate data\n",
    "10. ✅ Split out multiple data points from Engine_Type field (also move out drive train bc this is not engine data). Could split our cylinders number, turbo boolean, valve number\n",
    "\n"
   ]
  },
  {
   "cell_type": "markdown",
   "metadata": {},
   "source": [
    "# Additional questions I would ask stakeholders/users:\n",
    "\n",
    "- Are there other possible values we will see in the future that I should account for?\n",
    "- I've assigned all information from the name field into the relevant other fields. Do you need me to further refine and standardize the engine type field? I did not extract the engine cylinder information\n",
    "- Are any of these remaining fields contingent on any other fields? (They don't appear to be)\n",
    "- We should find another dataset to fill the information about drive train, this is a criterion that customers may be interested to search by and we have little data on this. "
   ]
  },
  {
   "cell_type": "markdown",
   "metadata": {},
   "source": [
    "# Normalization Checklist:\n",
    "\n",
    "1. First Normal Form (1NF)\n",
    "\n",
    "- It only has atomic (indivisible) values. In other words, each cell should contain only one value, not a set of values or empty sets.\n",
    "- Entries in a column are of the same kind. Each column should be of the same type (numeric, text, date, etc.).\n",
    "- Each column in a table should represent a single attribute of the entity modelled by the table (e.g., a 'car' table might have separate columns for 'make', 'model', 'year', etc.)\n",
    "- Order in which data is saved does not matter.\n",
    "\n",
    "--\n",
    "\n",
    "2. Second Normal Form (2NF)\n",
    "\n",
    "- It is in 1NF.\n",
    "- All non-key columns are fully dependent on the primary key. A non-key column must be functionally dependent on the entire set of primary key(s). There should be no partial dependency.\n",
    "- In other words, if a column is dependent on only part of a multi-part primary key, then the table fails 2NF.\n",
    "\n",
    "--\n",
    "\n",
    "3. Third Normal Form (3NF)\n",
    "\n",
    "- It is in 2NF.\n",
    "- It has no transitive dependencies. A transitive dependency occurs when a non-key column is dependent on another non-key column, which is dependent on the primary key.\n",
    "- Every non-key attribute must be functionally dependent on the primary key directly and not through some other non-key attributes.\n",
    "\n",
    "\n",
    "\n",
    "\n",
    "\n",
    "\n"
   ]
  }
 ],
 "metadata": {
  "language_info": {
   "name": "python"
  },
  "orig_nbformat": 4
 },
 "nbformat": 4,
 "nbformat_minor": 2
}
